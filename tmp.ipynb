{
 "cells": [
  {
   "cell_type": "code",
   "execution_count": 1,
   "metadata": {},
   "outputs": [],
   "source": [
    "import os, json\n",
    "import faiss\n",
    "import numpy as np\n",
    "import torch\n",
    "from torch.utils.data import Dataset\n",
    "from path_utils import *\n",
    "from mmap_dataset import MmapDataset\n",
    "from knn.pq_wrapper import TorchPQCodec\n",
    "from dataset import KNNDataset"
   ]
  },
  {
   "cell_type": "code",
   "execution_count": 2,
   "metadata": {},
   "outputs": [],
   "source": [
    "ds = KNNDataset(np.zeros((1000, 3000)), [3, 2], \"data\", \"test\", k=128)"
   ]
  },
  {
   "cell_type": "code",
   "execution_count": 4,
   "metadata": {},
   "outputs": [
    {
     "data": {
      "text/plain": [
       "(5, 128)"
      ]
     },
     "execution_count": 4,
     "metadata": {},
     "output_type": "execute_result"
    }
   ],
   "source": [
    "ds.neighbor_offsets.shape"
   ]
  },
  {
   "cell_type": "code",
   "execution_count": 3,
   "metadata": {},
   "outputs": [
    {
     "ename": "IndexError",
     "evalue": "index 5 is out of bounds for axis 0 with size 5",
     "output_type": "error",
     "traceback": [
      "\u001b[0;31m---------------------------------------------------------------------------\u001b[0m",
      "\u001b[0;31mIndexError\u001b[0m                                Traceback (most recent call last)",
      "\u001b[0;32m/tmp/ipykernel_34534/3903559858.py\u001b[0m in \u001b[0;36m<module>\u001b[0;34m\u001b[0m\n\u001b[0;32m----> 1\u001b[0;31m \u001b[0mds\u001b[0m\u001b[0;34m[\u001b[0m\u001b[0;36m0\u001b[0m\u001b[0;34m]\u001b[0m\u001b[0;34m\u001b[0m\u001b[0;34m\u001b[0m\u001b[0m\n\u001b[0m",
      "\u001b[0;32m~/lzzz/SimCoder/dataset.py\u001b[0m in \u001b[0;36m__getitem__\u001b[0;34m(self, index)\u001b[0m\n\u001b[1;32m     88\u001b[0m         \u001b[0mglobal_offset\u001b[0m \u001b[0;34m=\u001b[0m \u001b[0mself\u001b[0m\u001b[0;34m.\u001b[0m\u001b[0mdouble_idx_to_one\u001b[0m\u001b[0;34m(\u001b[0m\u001b[0mfile_idx\u001b[0m\u001b[0;34m,\u001b[0m \u001b[0moffset\u001b[0m\u001b[0;34m)\u001b[0m\u001b[0;34m\u001b[0m\u001b[0;34m\u001b[0m\u001b[0m\n\u001b[1;32m     89\u001b[0m         \u001b[0moffsets\u001b[0m \u001b[0;34m=\u001b[0m \u001b[0mglobal_offset\u001b[0m \u001b[0;34m-\u001b[0m \u001b[0;36m1\u001b[0m \u001b[0;34m+\u001b[0m \u001b[0mtorch\u001b[0m\u001b[0;34m.\u001b[0m\u001b[0marange\u001b[0m\u001b[0;34m(\u001b[0m\u001b[0;36m0\u001b[0m\u001b[0;34m,\u001b[0m \u001b[0msample_length\u001b[0m\u001b[0;34m,\u001b[0m \u001b[0mdtype\u001b[0m\u001b[0;34m=\u001b[0m\u001b[0mtorch\u001b[0m\u001b[0;34m.\u001b[0m\u001b[0mint64\u001b[0m\u001b[0;34m)\u001b[0m\u001b[0;34m\u001b[0m\u001b[0;34m\u001b[0m\u001b[0m\n\u001b[0;32m---> 90\u001b[0;31m         \u001b[0mneighbor_offset\u001b[0m \u001b[0;34m=\u001b[0m \u001b[0mself\u001b[0m\u001b[0;34m.\u001b[0m\u001b[0mneighbor_offsets\u001b[0m\u001b[0;34m[\u001b[0m\u001b[0moffsets\u001b[0m\u001b[0;34m]\u001b[0m  \u001b[0;31m# [L, k]\u001b[0m\u001b[0;34m\u001b[0m\u001b[0;34m\u001b[0m\u001b[0m\n\u001b[0m\u001b[1;32m     91\u001b[0m         \u001b[0mall_tokens\u001b[0m\u001b[0;34m,\u001b[0m \u001b[0mall_reps\u001b[0m\u001b[0;34m,\u001b[0m \u001b[0mvalid_masks\u001b[0m \u001b[0;34m=\u001b[0m \u001b[0;34m[\u001b[0m\u001b[0;34m]\u001b[0m\u001b[0;34m,\u001b[0m \u001b[0;34m[\u001b[0m\u001b[0;34m]\u001b[0m\u001b[0;34m,\u001b[0m \u001b[0;34m[\u001b[0m\u001b[0;34m]\u001b[0m\u001b[0;34m\u001b[0m\u001b[0;34m\u001b[0m\u001b[0m\n\u001b[1;32m     92\u001b[0m         \u001b[0;32mfor\u001b[0m \u001b[0mtgt_idx\u001b[0m \u001b[0;32min\u001b[0m \u001b[0mrange\u001b[0m\u001b[0;34m(\u001b[0m\u001b[0mlen\u001b[0m\u001b[0;34m(\u001b[0m\u001b[0mtarget\u001b[0m\u001b[0;34m)\u001b[0m\u001b[0;34m)\u001b[0m\u001b[0;34m:\u001b[0m\u001b[0;34m\u001b[0m\u001b[0;34m\u001b[0m\u001b[0m\n",
      "\u001b[0;32m~/lzzz/SimCoder/mmap_dataset.py\u001b[0m in \u001b[0;36m__getitem__\u001b[0;34m(self, item)\u001b[0m\n\u001b[1;32m     56\u001b[0m \u001b[0;34m\u001b[0m\u001b[0m\n\u001b[1;32m     57\u001b[0m     \u001b[0;32mdef\u001b[0m \u001b[0m__getitem__\u001b[0m\u001b[0;34m(\u001b[0m\u001b[0mself\u001b[0m\u001b[0;34m,\u001b[0m \u001b[0mitem\u001b[0m\u001b[0;34m)\u001b[0m\u001b[0;34m:\u001b[0m\u001b[0;34m\u001b[0m\u001b[0;34m\u001b[0m\u001b[0m\n\u001b[0;32m---> 58\u001b[0;31m         \u001b[0;32mreturn\u001b[0m \u001b[0mself\u001b[0m\u001b[0;34m.\u001b[0m\u001b[0m_mmap\u001b[0m\u001b[0;34m[\u001b[0m\u001b[0mitem\u001b[0m\u001b[0;34m]\u001b[0m\u001b[0;34m\u001b[0m\u001b[0;34m\u001b[0m\u001b[0m\n\u001b[0m",
      "\u001b[0;32m~/miniconda3/envs/py37/lib/python3.7/site-packages/numpy/core/memmap.py\u001b[0m in \u001b[0;36m__getitem__\u001b[0;34m(self, index)\u001b[0m\n\u001b[1;32m    329\u001b[0m \u001b[0;34m\u001b[0m\u001b[0m\n\u001b[1;32m    330\u001b[0m     \u001b[0;32mdef\u001b[0m \u001b[0m__getitem__\u001b[0m\u001b[0;34m(\u001b[0m\u001b[0mself\u001b[0m\u001b[0;34m,\u001b[0m \u001b[0mindex\u001b[0m\u001b[0;34m)\u001b[0m\u001b[0;34m:\u001b[0m\u001b[0;34m\u001b[0m\u001b[0;34m\u001b[0m\u001b[0m\n\u001b[0;32m--> 331\u001b[0;31m         \u001b[0mres\u001b[0m \u001b[0;34m=\u001b[0m \u001b[0msuper\u001b[0m\u001b[0;34m(\u001b[0m\u001b[0mmemmap\u001b[0m\u001b[0;34m,\u001b[0m \u001b[0mself\u001b[0m\u001b[0;34m)\u001b[0m\u001b[0;34m.\u001b[0m\u001b[0m__getitem__\u001b[0m\u001b[0;34m(\u001b[0m\u001b[0mindex\u001b[0m\u001b[0;34m)\u001b[0m\u001b[0;34m\u001b[0m\u001b[0;34m\u001b[0m\u001b[0m\n\u001b[0m\u001b[1;32m    332\u001b[0m         \u001b[0;32mif\u001b[0m \u001b[0mtype\u001b[0m\u001b[0;34m(\u001b[0m\u001b[0mres\u001b[0m\u001b[0;34m)\u001b[0m \u001b[0;32mis\u001b[0m \u001b[0mmemmap\u001b[0m \u001b[0;32mand\u001b[0m \u001b[0mres\u001b[0m\u001b[0;34m.\u001b[0m\u001b[0m_mmap\u001b[0m \u001b[0;32mis\u001b[0m \u001b[0;32mNone\u001b[0m\u001b[0;34m:\u001b[0m\u001b[0;34m\u001b[0m\u001b[0;34m\u001b[0m\u001b[0m\n\u001b[1;32m    333\u001b[0m             \u001b[0;32mreturn\u001b[0m \u001b[0mres\u001b[0m\u001b[0;34m.\u001b[0m\u001b[0mview\u001b[0m\u001b[0;34m(\u001b[0m\u001b[0mtype\u001b[0m\u001b[0;34m=\u001b[0m\u001b[0mndarray\u001b[0m\u001b[0;34m)\u001b[0m\u001b[0;34m\u001b[0m\u001b[0;34m\u001b[0m\u001b[0m\n",
      "\u001b[0;31mIndexError\u001b[0m: index 5 is out of bounds for axis 0 with size 5"
     ]
    }
   ],
   "source": [
    "ds[0]"
   ]
  },
  {
   "cell_type": "code",
   "execution_count": 25,
   "metadata": {},
   "outputs": [
    {
     "data": {
      "text/plain": [
       "torch.Size([2, 768])"
      ]
     },
     "execution_count": 25,
     "metadata": {},
     "output_type": "execute_result"
    }
   ],
   "source": [
    "feats = ds.quantize_neighbor_feat[:2]\n",
    "ds.tgt_quantizer.decode(torch.LongTensor(feats)).shape"
   ]
  },
  {
   "cell_type": "code",
   "execution_count": 3,
   "metadata": {},
   "outputs": [],
   "source": [
    "class KNNDataset(Dataset):\n",
    "\n",
    "    def __init__(self, subtokens, sizes, data_path, split, k):\n",
    "        \"\"\"\n",
    "        Build a LM dataset with KNN info.\n",
    "\n",
    "        Args:\n",
    "            subtokens: a list of subtoken ids\n",
    "            sizes: list of subtokens length\n",
    "            data_path: path to the data directory\n",
    "            split: train/valid/test\n",
    "            k: number of neighbors\n",
    "        \"\"\"\n",
    "        self.dtype = np.float16\n",
    "        self.invalid_context = 512\n",
    "        self.k = k\n",
    "        self.subtokens = subtokens\n",
    "        self.sizes = np.array(sizes)\n",
    "        self.cum_sizes = np.cumsum(self.sizes)\n",
    "        self.cum_sizes = np.insert(self.cum_sizes, 0, 0)\n",
    "        self.num_tokens = sum(self.sizes)\n",
    "        self.neighbor_info = json.load(open(os.path.join(dstore_path(data_path, \"train\"), \"info.json\")))\n",
    "        self.info = json.load(open(os.path.join(dstore_path(data_path, split), \"info.json\")))\n",
    "        self.train_tokens = self.neighbor_info[\"dstore_size\"]\n",
    "        self.quantize_neighbor_feat = np.load(quantized_feature_path(data_path, \"train\"))\n",
    "        self.neighbor_offsets = MmapDataset(neighbor_path(data_dir=data_path, mode=split, k=self.k),\n",
    "                                    dtype=np.int64, shape=(self.num_tokens, self.k), warmup=False)\n",
    "        self.neighbor_tokens = MmapDataset(value_path(data_dir=data_path, mode=\"train\"),\n",
    "                                    dtype=np.int64,\n",
    "                                    shape=(self.train_tokens, 2), warmup=False)\n",
    "        quantiz_path = quantizer_path(data_dir=data_path, suffix=\"\", norm=False)  \n",
    "        self.tgt_quantizer = TorchPQCodec(index=faiss.read_index(quantiz_path))\n",
    "\n",
    "        self.init_block()\n",
    "        self.init_special_tokens()\n",
    "\n",
    "    def init_block(self, block_size=512):\n",
    "        \"\"\"\n",
    "        Set file index, file offset and sample length.\n",
    "        Left to zhz.\n",
    "        \"\"\"\n",
    "        self.file_index = np.arange(len(self.sizes))\n",
    "        self.file_offset = np.zeros(len(self.sizes), dtype=np.int64)\n",
    "        self.sample_length = np.ones(len(self.sizes), dtype=np.int64) * 512\n",
    "        pass\n",
    "\n",
    "    def init_special_tokens(self):\n",
    "        self.pad = 0\n",
    "        self.unk = 1\n",
    "        self.eos = 2\n",
    "\n",
    "    def double_idx_to_one(self, file_idx, offset):\n",
    "        \"\"\"\n",
    "        Convert a double index to a single index.\n",
    "        \"\"\"\n",
    "        return self.cum_sizes[file_idx] + offset\n",
    "\n",
    "    def __len__(self):\n",
    "        \"\"\"\n",
    "        Batch numbers.\n",
    "        \"\"\"\n",
    "        return len(self.file_index)"
   ]
  },
  {
   "cell_type": "code",
   "execution_count": 41,
   "metadata": {},
   "outputs": [],
   "source": [
    "val_file = \"data/train_dstore/vals.npy\"\n",
    "dstore_size = 147600000\n",
    "vals = np.memmap(val_file,\n",
    "                dtype=np.int32,\n",
    "                mode=\"r\",\n",
    "                shape=(dstore_size, 2))"
   ]
  },
  {
   "cell_type": "code",
   "execution_count": 42,
   "metadata": {},
   "outputs": [
    {
     "data": {
      "text/plain": [
       "memmap([19960,   710], dtype=int32)"
      ]
     },
     "execution_count": 42,
     "metadata": {},
     "output_type": "execute_result"
    }
   ],
   "source": [
    "vals[11000]"
   ]
  }
 ],
 "metadata": {
  "interpreter": {
   "hash": "8ce7cb340eeb183d1d12109f4f02c8881b1d7e091fd71b368079af7b4a314b71"
  },
  "kernelspec": {
   "display_name": "Python 3.7.11 ('py37')",
   "language": "python",
   "name": "python3"
  },
  "language_info": {
   "codemirror_mode": {
    "name": "ipython",
    "version": 3
   },
   "file_extension": ".py",
   "mimetype": "text/x-python",
   "name": "python",
   "nbconvert_exporter": "python",
   "pygments_lexer": "ipython3",
   "version": "3.7.11"
  },
  "orig_nbformat": 4
 },
 "nbformat": 4,
 "nbformat_minor": 2
}
