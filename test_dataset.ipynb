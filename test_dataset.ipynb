{
 "cells": [
  {
   "cell_type": "code",
   "execution_count": 1,
   "metadata": {},
   "outputs": [
    {
     "ename": "ModuleNotFoundError",
     "evalue": "No module named 'transformers'",
     "output_type": "error",
     "traceback": [
      "\u001b[0;31m---------------------------------------------------------------------------\u001b[0m",
      "\u001b[0;31mModuleNotFoundError\u001b[0m                       Traceback (most recent call last)",
      "\u001b[0;32m/tmp/ipykernel_58164/3085368487.py\u001b[0m in \u001b[0;36m<module>\u001b[0;34m\u001b[0m\n\u001b[1;32m      1\u001b[0m \u001b[0;32mimport\u001b[0m \u001b[0mh5py\u001b[0m\u001b[0;34m\u001b[0m\u001b[0;34m\u001b[0m\u001b[0m\n\u001b[0;32m----> 2\u001b[0;31m \u001b[0;32mfrom\u001b[0m \u001b[0mtransformers\u001b[0m \u001b[0;32mimport\u001b[0m \u001b[0mGPT2Tokenizer\u001b[0m\u001b[0;34m\u001b[0m\u001b[0;34m\u001b[0m\u001b[0m\n\u001b[0m\u001b[1;32m      3\u001b[0m \u001b[0;34m\u001b[0m\u001b[0m\n\u001b[1;32m      4\u001b[0m \u001b[0;34m\u001b[0m\u001b[0m\n\u001b[1;32m      5\u001b[0m \u001b[0mtoken_p\u001b[0m \u001b[0;34m=\u001b[0m \u001b[0;34m\"../data/py150k/codegpt_small_py_adaptedgpt2.subtoken_eval.h5\"\u001b[0m\u001b[0;34m\u001b[0m\u001b[0;34m\u001b[0m\u001b[0m\n",
      "\u001b[0;31mModuleNotFoundError\u001b[0m: No module named 'transformers'"
     ]
    }
   ],
   "source": [
    "import h5py\n",
    "from transformers import GPT2Tokenizer\n",
    "\n",
    "\n",
    "token_p = \"../data/py150k/codegpt_small_py_adaptedgpt2.subtoken_eval.h5\"\n",
    "with h5py.File(token_p, \"r\") as f:\n",
    "    token_ids = f[\"subtoken\"]\n",
    "    file_ids = f[\"file_id\"]\n",
    "    subtokens = [[] for _ in range(int(file_ids[-1]) + 1)]\n",
    "    sizes = [0 for _ in range(int(file_ids[-1]) + 1)]\n",
    "    for i in range(len(file_ids)):\n",
    "        subtokens[int(file_ids[i])].append(int(token_ids[i]))\n",
    "        sizes[int(file_ids[i])] += 1"
   ]
  },
  {
   "cell_type": "code",
   "execution_count": null,
   "metadata": {},
   "outputs": [],
   "source": [
    "import os, json\n",
    "import faiss\n",
    "import numpy as np\n",
    "import torch\n",
    "from torch.utils.data import Dataset\n",
    "from path_utils import *\n",
    "from mmap_dataset import MmapDataset\n",
    "from knn.pq_wrapper import TorchPQCodec\n",
    "from dataset import KNNDataset"
   ]
  },
  {
   "cell_type": "code",
   "execution_count": null,
   "metadata": {},
   "outputs": [],
   "source": [
    "ds = KNNDataset(np.zeros((1000, 3000)), [3, 2], \"data\", \"test\", k=128)"
   ]
  }
 ],
 "metadata": {
  "kernelspec": {
   "display_name": "Python 3.7.11 ('gnnlm')",
   "language": "python",
   "name": "python3"
  },
  "language_info": {
   "codemirror_mode": {
    "name": "ipython",
    "version": 3
   },
   "file_extension": ".py",
   "mimetype": "text/x-python",
   "name": "python",
   "nbconvert_exporter": "python",
   "pygments_lexer": "ipython3",
   "version": "3.7.12"
  },
  "orig_nbformat": 4,
  "vscode": {
   "interpreter": {
    "hash": "65e1af3444333abb2240ffbd79de16c13385c85cd92e03aa78a7d5d50f7aa1e1"
   }
  }
 },
 "nbformat": 4,
 "nbformat_minor": 2
}
